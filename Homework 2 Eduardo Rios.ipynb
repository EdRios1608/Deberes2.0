{
 "cells": [
  {
   "cell_type": "markdown",
   "id": "8d0a8bef",
   "metadata": {},
   "source": [
    "# Homework 2"
   ]
  },
  {
   "cell_type": "markdown",
   "id": "35509289",
   "metadata": {},
   "source": [
    "##  1. Given the following implementation of the class `PriorityQueue`, implement the methods:\n",
    "\n",
    "- `insert(v,k)` - add an element $v$ with priority $k$. Complexity $O(n)$\n",
    "- `deleteMin()` - remove the element with the lowest $k$ (highest priority). Complexity $O(1)$\n",
    "- `decreaseKey(v,k)` - decrease the value of $k$ (increase priority). Complexity $O(n)$\n",
    "\n",
    "**Show complexity analysis for each implementation**"
   ]
  },
  {
   "cell_type": "code",
   "execution_count": 62,
   "id": "f3bc25de",
   "metadata": {},
   "outputs": [
    {
     "name": "stdout",
     "output_type": "stream",
     "text": [
      "12 1 14 7\n"
     ]
    },
    {
     "ename": "AttributeError",
     "evalue": "'PriorityQueue' object has no attribute 'delete'",
     "output_type": "error",
     "traceback": [
      "\u001b[1;31m---------------------------------------------------------------------------\u001b[0m",
      "\u001b[1;31mAttributeError\u001b[0m                            Traceback (most recent call last)",
      "\u001b[1;32m<ipython-input-62-22734639e9f1>\u001b[0m in \u001b[0;36m<module>\u001b[1;34m\u001b[0m\n\u001b[1;32m----> 1\u001b[1;33m \u001b[1;32mclass\u001b[0m \u001b[0mPriorityQueue\u001b[0m\u001b[1;33m(\u001b[0m\u001b[0mobject\u001b[0m\u001b[1;33m)\u001b[0m\u001b[1;33m:\u001b[0m\u001b[1;33m\u001b[0m\u001b[1;33m\u001b[0m\u001b[0m\n\u001b[0m\u001b[0;32m      2\u001b[0m     \u001b[1;32mdef\u001b[0m \u001b[0m__init__\u001b[0m\u001b[1;33m(\u001b[0m\u001b[0mself\u001b[0m\u001b[1;33m)\u001b[0m\u001b[1;33m:\u001b[0m\u001b[1;33m\u001b[0m\u001b[1;33m\u001b[0m\u001b[0m\n\u001b[0;32m      3\u001b[0m         \u001b[0mself\u001b[0m\u001b[1;33m.\u001b[0m\u001b[0mqueue\u001b[0m \u001b[1;33m=\u001b[0m \u001b[1;33m[\u001b[0m\u001b[1;33m]\u001b[0m\u001b[1;33m\u001b[0m\u001b[1;33m\u001b[0m\u001b[0m\n\u001b[0;32m      4\u001b[0m \u001b[1;33m\u001b[0m\u001b[0m\n\u001b[0;32m      5\u001b[0m     \u001b[1;32mdef\u001b[0m \u001b[0m__str__\u001b[0m\u001b[1;33m(\u001b[0m\u001b[0mself\u001b[0m\u001b[1;33m)\u001b[0m\u001b[1;33m:\u001b[0m\u001b[1;33m\u001b[0m\u001b[1;33m\u001b[0m\u001b[0m\n",
      "\u001b[1;32m<ipython-input-62-22734639e9f1>\u001b[0m in \u001b[0;36mPriorityQueue\u001b[1;34m()\u001b[0m\n\u001b[0;32m     31\u001b[0m     \u001b[0mprint\u001b[0m\u001b[1;33m(\u001b[0m\u001b[0mmyQueue\u001b[0m\u001b[1;33m)\u001b[0m\u001b[1;33m\u001b[0m\u001b[1;33m\u001b[0m\u001b[0m\n\u001b[0;32m     32\u001b[0m \u001b[1;33m\u001b[0m\u001b[0m\n\u001b[1;32m---> 33\u001b[1;33m     \u001b[0mmyQueue\u001b[0m\u001b[1;33m.\u001b[0m\u001b[0mdelete\u001b[0m\u001b[1;33m(\u001b[0m\u001b[1;36m1\u001b[0m\u001b[1;33m)\u001b[0m\u001b[1;33m\u001b[0m\u001b[1;33m\u001b[0m\u001b[0m\n\u001b[0m\u001b[0;32m     34\u001b[0m     \u001b[1;31m#myQueue.delete(2)\u001b[0m\u001b[1;33m\u001b[0m\u001b[1;33m\u001b[0m\u001b[1;33m\u001b[0m\u001b[0m\n\u001b[0;32m     35\u001b[0m     \u001b[1;31m#print(myQueue)\u001b[0m\u001b[1;33m\u001b[0m\u001b[1;33m\u001b[0m\u001b[1;33m\u001b[0m\u001b[0m\n",
      "\u001b[1;31mAttributeError\u001b[0m: 'PriorityQueue' object has no attribute 'delete'"
     ]
    }
   ],
   "source": [
    "class PriorityQueue(object):\n",
    "    def __init__(self):\n",
    "        self.queue = []\n",
    "  \n",
    "    def __str__(self):\n",
    "        return ' '.join([str(i) for i in self.queue])\n",
    "  \n",
    "    # for checking if the queue is empty\n",
    "    def isEmpty(self):\n",
    "        return len(self.queue) == 0\n",
    "  \n",
    "    # for inserting an element in the queue\n",
    "    def insert(self, data):\n",
    "        self.queue.append(data)\n",
    "  \n",
    "    # for popping an element based on Priority\n",
    "    def delete(self):\n",
    "        try:\n",
    "            max = 0\n",
    "            for i in range(len(self.queue)):\n",
    "                if self.queue[i] > self.queue[max]:\n",
    "                    max = i\n",
    "            item = self.queue[max]\n",
    "            del self.queue[max]\n",
    "            return item\n",
    "        except IndexError:\n",
    "            print()\n",
    "            exit()\n",
    "  \n",
    "    myQueue = PriorityQueue()\n",
    "    myQueue.insert(12)\n",
    "    myQueue.insert(1)\n",
    "    myQueue.insert(14)\n",
    "    myQueue.insert(7)\n",
    "    print(myQueue)     \n",
    "    \n",
    "    #myQueue.delete(1)\n",
    "    #myQueue.delete(2)\n",
    "    #print(myQueue)   \n",
    "    "
   ]
  },
  {
   "cell_type": "markdown",
   "id": "6079fb21",
   "metadata": {},
   "source": [
    "## 2. You are given two non-negative integers in the form of two non-empty linked lists. The digits are stored in reverse order, and each nodes contains a single digit. Add the two numbers and return the sum as a linked list.\n",
    "\n",
    "For example:\n",
    "\n",
    "**Input:** \n",
    "- $L_1$ = 1 -> 4 -> 5\n",
    "- $L_2$ = 4 -> 3 -> 2\n",
    "\n",
    "**Output:**\n",
    "- $L_3$ = 5 -> 7 -> 7\n",
    "\n",
    "Note that, the problem is equivalent to adding: 541 + 234  =  775"
   ]
  },
  {
   "cell_type": "code",
   "execution_count": 39,
   "id": "09ce0654",
   "metadata": {},
   "outputs": [
    {
     "name": "stdout",
     "output_type": "stream",
     "text": [
      "Lista 1: \n",
      "5\n",
      "4\n",
      "1\n",
      "\n",
      "Lista2 es: \n",
      "2\n",
      "3\n",
      "4\n",
      "\n",
      "El resultado de la suma de estas listas es: \n",
      "7\n",
      "7\n",
      "5\n"
     ]
    }
   ],
   "source": [
    "class LinkedList:\n",
    " \n",
    "    def __init__(self):\n",
    "        self.head = None\n",
    " \n",
    "    def push(self, new_data):\n",
    "        new_node = Node(new_data)\n",
    "        new_node.next = self.head\n",
    "        self.head = new_node\n",
    " \n",
    "    def addTwoLists(self, primera, segunda):\n",
    "        prev = None\n",
    "        temp = None\n",
    "        carry = 0\n",
    " \n",
    "        while(primera is not None or segunda is not None):\n",
    " \n",
    "            fdata = 0 if first is None else primera.data\n",
    "            sdata = 0 if second is None else segunda.data\n",
    "            Sum = carry + fdata + sdata\n",
    " \n",
    "            carry = 1 if Sum >= 10 else 0\n",
    " \n",
    "            Sum = Sum if Sum < 10 else Sum % 10\n",
    " \n",
    "            temp = Node(Sum)\n",
    " \n",
    "            if self.head is None:\n",
    "                self.head = temp\n",
    "            else:\n",
    "                prev.next = temp\n",
    "\n",
    "            prev = temp\n",
    "\n",
    "            if primera is not None:\n",
    "                primera = primera.next\n",
    "            if segunda is not None:\n",
    "                segunda = segunda.next\n",
    " \n",
    "        if carry > 0:\n",
    "            temp.next = Node(carry)\n",
    "\n",
    "    def printList(self):\n",
    "        temp = self.head\n",
    "        while(temp):\n",
    "            print (temp.data)\n",
    "            temp = temp.next\n",
    " \n",
    " \n",
    "primera = LinkedList()\n",
    "segunda = LinkedList()\n",
    " \n",
    "primera.push(1)\n",
    "primera.push(4)\n",
    "primera.push(5)\n",
    "print (\"Lista 1: \") \n",
    "primera.printList()\n",
    " \n",
    "segunda.push(4)\n",
    "segunda.push(3)\n",
    "segunda.push(2)\n",
    "print (\"\\nLista2 es: \")\n",
    "segunda.printList()\n",
    "\n",
    "res = LinkedList()\n",
    "res.addTwoLists(primera.head, segunda.head)\n",
    "print (\"\\nEl resultado de la suma de estas listas es: \")\n",
    "res.printList()"
   ]
  },
  {
   "cell_type": "markdown",
   "id": "af6d7612",
   "metadata": {},
   "source": [
    "## 3. Given a linked list, detect if the list has a cycle. If a cycle is detected, return the position of the node (with respect to the head) where the cycle starts.\n",
    "\n",
    "For example:\n",
    "\n",
    "![](./cycle.png)\n",
    "\n",
    "**Input:**\n",
    "- Jan -> Feb -> March -> Dec\n",
    "\n",
    "**Output:**\n",
    "- True\n",
    "- 2"
   ]
  },
  {
   "cell_type": "code",
   "execution_count": null,
   "id": "aadf38ff",
   "metadata": {},
   "outputs": [],
   "source": []
  },
  {
   "cell_type": "markdown",
   "id": "a3746feb",
   "metadata": {},
   "source": [
    "## 4.  CLRS 10.1-5\n",
    "pg. 236\n",
    "\n",
    "**Implement as a Python class**"
   ]
  },
  {
   "cell_type": "code",
   "execution_count": 25,
   "id": "1251214f",
   "metadata": {},
   "outputs": [
    {
     "ename": "AttributeError",
     "evalue": "'Deque' object has no attribute 'array'",
     "output_type": "error",
     "traceback": [
      "\u001b[1;31m---------------------------------------------------------------------------\u001b[0m",
      "\u001b[1;31mAttributeError\u001b[0m                            Traceback (most recent call last)",
      "\u001b[1;32m<ipython-input-25-23bd3905a7d5>\u001b[0m in \u001b[0;36m<module>\u001b[1;34m\u001b[0m\n\u001b[0;32m     27\u001b[0m \u001b[0mq\u001b[0m \u001b[1;33m=\u001b[0m \u001b[0mDeque\u001b[0m\u001b[1;33m(\u001b[0m\u001b[1;36m10\u001b[0m\u001b[1;33m)\u001b[0m\u001b[1;33m\u001b[0m\u001b[1;33m\u001b[0m\u001b[0m\n\u001b[0;32m     28\u001b[0m \u001b[1;33m\u001b[0m\u001b[0m\n\u001b[1;32m---> 29\u001b[1;33m \u001b[0mq\u001b[0m\u001b[1;33m.\u001b[0m\u001b[0maumentarPrimeraPos\u001b[0m\u001b[1;33m(\u001b[0m\u001b[1;36m3\u001b[0m\u001b[1;33m)\u001b[0m\u001b[1;33m\u001b[0m\u001b[1;33m\u001b[0m\u001b[0m\n\u001b[0m\u001b[0;32m     30\u001b[0m \u001b[0mq\u001b[0m\u001b[1;33m.\u001b[0m\u001b[0meliminarPrimeraPos\u001b[0m\u001b[1;33m(\u001b[0m\u001b[1;36m9\u001b[0m\u001b[1;33m)\u001b[0m\u001b[1;33m\u001b[0m\u001b[1;33m\u001b[0m\u001b[0m\n\u001b[0;32m     31\u001b[0m \u001b[0mprint\u001b[0m \u001b[1;33m(\u001b[0m\u001b[0mq\u001b[0m\u001b[1;33m.\u001b[0m\u001b[0marray\u001b[0m\u001b[1;33m)\u001b[0m\u001b[1;33m\u001b[0m\u001b[1;33m\u001b[0m\u001b[0m\n",
      "\u001b[1;32m<ipython-input-25-23bd3905a7d5>\u001b[0m in \u001b[0;36maumentarPrimeraPos\u001b[1;34m(self, item)\u001b[0m\n\u001b[0;32m      8\u001b[0m \u001b[1;33m\u001b[0m\u001b[0m\n\u001b[0;32m      9\u001b[0m     \u001b[1;32mdef\u001b[0m \u001b[0maumentarPrimeraPos\u001b[0m\u001b[1;33m(\u001b[0m\u001b[0mself\u001b[0m\u001b[1;33m,\u001b[0m \u001b[0mitem\u001b[0m\u001b[1;33m)\u001b[0m\u001b[1;33m:\u001b[0m\u001b[1;33m\u001b[0m\u001b[1;33m\u001b[0m\u001b[0m\n\u001b[1;32m---> 10\u001b[1;33m         \u001b[0mself\u001b[0m\u001b[1;33m.\u001b[0m\u001b[0marray\u001b[0m\u001b[1;33m[\u001b[0m\u001b[0mself\u001b[0m\u001b[1;33m.\u001b[0m\u001b[0mhead\u001b[0m\u001b[1;33m]\u001b[0m \u001b[1;33m=\u001b[0m \u001b[0mitem\u001b[0m\u001b[1;33m\u001b[0m\u001b[1;33m\u001b[0m\u001b[0m\n\u001b[0m\u001b[0;32m     11\u001b[0m         \u001b[0mself\u001b[0m\u001b[1;33m.\u001b[0m\u001b[0mhead\u001b[0m \u001b[1;33m=\u001b[0m \u001b[1;33m(\u001b[0m\u001b[0mself\u001b[0m\u001b[1;33m.\u001b[0m\u001b[0mhead\u001b[0m\u001b[1;33m+\u001b[0m\u001b[1;36m1\u001b[0m\u001b[1;33m)\u001b[0m\u001b[1;33m%\u001b[0m\u001b[0mself\u001b[0m\u001b[1;33m.\u001b[0m\u001b[0mn\u001b[0m\u001b[1;33m\u001b[0m\u001b[1;33m\u001b[0m\u001b[0m\n\u001b[0;32m     12\u001b[0m \u001b[1;33m\u001b[0m\u001b[0m\n",
      "\u001b[1;31mAttributeError\u001b[0m: 'Deque' object has no attribute 'array'"
     ]
    }
   ],
   "source": [
    "class Deque(int):\n",
    "\n",
    "    def _init_(self, n):\n",
    "        self.head = 0\n",
    "        self.tail = n-1\n",
    "        self.array = [0]*n\n",
    "        self.n = n\n",
    "\n",
    "    def aumentarPrimeraPos(self, item):\n",
    "        self.array[self.head] = item\n",
    "        self.head = (self.head+1)%self.n\n",
    "\n",
    "    def eliminarUltimaPOs(self, item):\n",
    "        self.array[self.tail] = item\n",
    "        self.tail = (self.tail-1)%self.n\n",
    "\n",
    "    def eliminarPrimeraPos(self):\n",
    "        self.head = (self.head-1)%self.n\n",
    "        v = self.array[self.head]\n",
    "        return v\n",
    "\n",
    "    def eliminarUltimaPos(self):\n",
    "        self.tail = (self.tail+1)%self.n\n",
    "        v = self.array[self.tail]\n",
    "        return v\n",
    "    \n",
    "q = Deque(10)\n",
    "\n",
    "q.aumentarPrimeraPos(3)\n",
    "q.eliminarPrimeraPos(9)\n",
    "print (q.array)"
   ]
  },
  {
   "cell_type": "markdown",
   "id": "bc4e5d7f",
   "metadata": {},
   "source": [
    "## 5.  CLRS 10.1-6\n",
    "pg. 236\n",
    "\n",
    "**Implement as a Python class**"
   ]
  },
  {
   "cell_type": "code",
   "execution_count": 4,
   "id": "919c67c0",
   "metadata": {},
   "outputs": [
    {
     "name": "stdout",
     "output_type": "stream",
     "text": [
      "1\n",
      "2\n",
      "3\n"
     ]
    }
   ],
   "source": [
    "class Queue:\n",
    "    def __init__(self):\n",
    "        self.s1 = []\n",
    "        self.s2 = []\n",
    " \n",
    "    def enQueue(self, x):\n",
    "\n",
    "        while len(self.s1) != 0:\n",
    "            self.s2.append(self.s1[-1])\n",
    "            self.s1.pop()\n",
    "\n",
    "        self.s1.append(x)\n",
    " \n",
    "\n",
    "        while len(self.s2) != 0:\n",
    "            self.s1.append(self.s2[-1])\n",
    "            self.s2.pop()\n",
    " \n",
    "    def deQueue(self):\n",
    "         \n",
    "        if len(self.s1) == 0:\n",
    "            print(\"Q is Empty\")\n",
    "     \n",
    "        x = self.s1[-1]\n",
    "        self.s1.pop()\n",
    "        return x\n",
    " \n",
    "    q = Queue()\n",
    "    q.enQueue(1)\n",
    "    q.enQueue(2)\n",
    "    q.enQueue(3)\n",
    " \n",
    "    print(q.deQueue())\n",
    "    print(q.deQueue())\n",
    "    print(q.deQueue())\n",
    "    "
   ]
  },
  {
   "cell_type": "markdown",
   "id": "f09585d1",
   "metadata": {},
   "source": [
    "## 6.  CLRS 10.1-7\n",
    "pg. 236\n",
    "\n",
    "**Implement as a Python class**"
   ]
  },
  {
   "cell_type": "code",
   "execution_count": 36,
   "id": "b0bb74a8",
   "metadata": {},
   "outputs": [
    {
     "name": "stdout",
     "output_type": "stream",
     "text": [
      "tam del valor inicial:  3\n",
      "3\n",
      "2\n",
      "1\n",
      "tam del valor final:  1\n"
     ]
    }
   ],
   "source": [
    "from queue import Queue\n",
    " \n",
    "class Stack:\n",
    "     \n",
    "    def __init__(self):\n",
    "         \n",
    "\n",
    "        self.q1 = Queue()\n",
    "        self.q2 = Queue()\n",
    "             \n",
    "        self.curr_size = 0\n",
    " \n",
    "    def push(self, x):\n",
    "        self.curr_size += 1\n",
    "\n",
    "        self.q2.put(x)\n",
    " \n",
    "        while (not self.q1.empty()):\n",
    "            self.q2.put(self.q1.queue[0])\n",
    "            self.q1.get()\n",
    "\n",
    "        self.q = self.q1\n",
    "        self.q1 = self.q2\n",
    "        self.q2 = self.q\n",
    " \n",
    "    def pop(self):\n",
    "\n",
    "        if (self.q1.empty()):\n",
    "            return\n",
    "        self.q1.get()\n",
    "        self.curr_size -= 1\n",
    " \n",
    "    def top(self):\n",
    "        if (self.q1.empty()):\n",
    "            return -1\n",
    "        return self.q1.queue[0]\n",
    " \n",
    "    def size(self):\n",
    "        return self.curr_size\n",
    "\n",
    "    s = Stack()\n",
    "    s.push(1)\n",
    "    s.push(2)\n",
    "    s.push(3)\n",
    " \n",
    "    print(\"tam del valor inicial: \", s.size())\n",
    "    print(s.top())\n",
    "    s.pop()\n",
    "    print(s.top())\n",
    "    s.pop()\n",
    "    print(s.top())\n",
    " \n",
    "    print(\"tam del valor final: \", s.size())\n",
    " "
   ]
  },
  {
   "cell_type": "code",
   "execution_count": null,
   "id": "f8dd119a",
   "metadata": {},
   "outputs": [],
   "source": []
  }
 ],
 "metadata": {
  "kernelspec": {
   "display_name": "Python 3",
   "language": "python",
   "name": "python3"
  },
  "language_info": {
   "codemirror_mode": {
    "name": "ipython",
    "version": 3
   },
   "file_extension": ".py",
   "mimetype": "text/x-python",
   "name": "python",
   "nbconvert_exporter": "python",
   "pygments_lexer": "ipython3",
   "version": "3.8.8"
  }
 },
 "nbformat": 4,
 "nbformat_minor": 5
}
